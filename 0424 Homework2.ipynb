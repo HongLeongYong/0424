{
 "cells": [
  {
   "cell_type": "code",
   "execution_count": 4,
   "metadata": {},
   "outputs": [
    {
     "name": "stdout",
     "output_type": "stream",
     "text": [
      "請猜一個幸運數字【按q退出】：a\n",
      "一定要打數字，除了q\n",
      "請猜一個幸運數字【按q退出】：b\n",
      "一定要打數字，除了q\n",
      "請猜一個幸運數字【按q退出】：10\n",
      "哈哈，你猜不到，再來一次吧！\n",
      "請猜一個幸運數字【按q退出】：q\n",
      "離開\n"
     ]
    }
   ],
   "source": [
    "while True:\n",
    "    num = input(\"請猜一個幸運數字【按q退出】：\")\n",
    "    if num.isdigit() == True:\n",
    "        if num == \"8\":\n",
    "            print(\"恭喜你猜成功\")\n",
    "            break\n",
    "        else: \n",
    "            print(\"哈哈，你猜不到，再來一次吧！\")\n",
    "    else:\n",
    "        if num == \"q\":\n",
    "            print(\"離開\")\n",
    "            break\n",
    "        else:\n",
    "            print(\"一定要打數字，除了q\")\n",
    "        "
   ]
  },
  {
   "cell_type": "code",
   "execution_count": null,
   "metadata": {},
   "outputs": [],
   "source": []
  },
  {
   "cell_type": "code",
   "execution_count": null,
   "metadata": {},
   "outputs": [],
   "source": []
  }
 ],
 "metadata": {
  "kernelspec": {
   "display_name": "Python 3",
   "language": "python",
   "name": "python3"
  },
  "language_info": {
   "codemirror_mode": {
    "name": "ipython",
    "version": 3
   },
   "file_extension": ".py",
   "mimetype": "text/x-python",
   "name": "python",
   "nbconvert_exporter": "python",
   "pygments_lexer": "ipython3",
   "version": "3.6.4"
  }
 },
 "nbformat": 4,
 "nbformat_minor": 2
}
