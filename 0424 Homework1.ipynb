{
 "cells": [
  {
   "cell_type": "code",
   "execution_count": 21,
   "metadata": {},
   "outputs": [
    {
     "name": "stdout",
     "output_type": "stream",
     "text": [
      "please input your exam score: 60\n",
      "You pass in the exam\n"
     ]
    }
   ],
   "source": [
    "try:\n",
    "    score = int(input(\"please input your exam score: \"))\n",
    "\n",
    "    if score>= 80:\n",
    "        print(\"You are excellent\")\n",
    "    elif score >= 60:\n",
    "        print(\"You pass in the exam\")\n",
    "    else:\n",
    "        print(\"Sad, you fail in your exam\")\n",
    "except:\n",
    "    print(\"Please input a integer\")"
   ]
  },
  {
   "cell_type": "code",
   "execution_count": null,
   "metadata": {},
   "outputs": [],
   "source": []
  }
 ],
 "metadata": {
  "kernelspec": {
   "display_name": "Python 3",
   "language": "python",
   "name": "python3"
  },
  "language_info": {
   "codemirror_mode": {
    "name": "ipython",
    "version": 3
   },
   "file_extension": ".py",
   "mimetype": "text/x-python",
   "name": "python",
   "nbconvert_exporter": "python",
   "pygments_lexer": "ipython3",
   "version": "3.6.4"
  }
 },
 "nbformat": 4,
 "nbformat_minor": 2
}
